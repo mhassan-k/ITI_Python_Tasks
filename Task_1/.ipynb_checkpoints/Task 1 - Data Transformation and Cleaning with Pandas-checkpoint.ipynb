{
 "cells": [
  {
   "cell_type": "markdown",
   "metadata": {},
   "source": [
    "### Step 0\n",
    "Load the energy data from the file `Energy Indicators.xls`, which is a list of indicators of [energy supply and renewable electricity production](Energy%20Indicators.xls) from the [United Nations](http://unstats.un.org/unsd/environment/excel_file_tables/2013/Energy%20Indicators.xls) for the year 2013, and should be put into a DataFrame with the variable name of **energy**.\n",
    "\n",
    "Keep in mind that this is an Excel file, and not a comma separated values file. Also, make sure to exclude the footer and header information from the datafile. The first two columns are unneccessary, so you should get rid of them, and you should change the column labels so that the columns are:\n",
    "\n",
    "`['Country', 'Energy Supply', 'Energy Supply per Capita', '% Renewable']`\n",
    "\n",
    "Convert `Energy Supply` to gigajoules (there are 1,000,000 gigajoules in a petajoule). For all countries which have missing data (e.g. data with \"...\") make sure this is reflected as `np.NaN` values.\n",
    "\n",
    "Rename the following list of countries (for use in later questions):\n",
    "\n",
    "```\"Republic of Korea\": \"South Korea\",\n",
    "\"United States of America\": \"United States\",\n",
    "\"United Kingdom of Great Britain and Northern Ireland\": \"United Kingdom\",\n",
    "\"China, Hong Kong Special Administrative Region\": \"Hong Kong\"```\n",
    "\n",
    "There are also several countries with numbers and/or parenthesis in their name. Be sure to remove these, \n",
    "\n",
    "e.g. \n",
    "\n",
    "`'Bolivia (Plurinational State of)'` should be `'Bolivia'`, \n",
    "\n",
    "`'Switzerland17'` should be `'Switzerland'`."
   ]
  },
  {
   "cell_type": "code",
   "execution_count": 1,
   "metadata": {},
   "outputs": [],
   "source": [
    "import pandas as pd \n",
    "import numpy as np \n",
    "\n",
    "df_Energy = pd.read_excel('01_data/Energy_Indicators.xls',skiprows=18,usecols=[1,3,4,5],header=None,sheet_name='Energy')\n",
    " \n",
    "df_Energy.columns =['Country', 'Energy Supply', 'Energy Supply per Capita', '% Renewable']\n",
    "df_Energy=df_Energy.iloc[:227]\n",
    "\n",
    "df_Energy['Country'].replace(['Republic of Korea','United States of America','United Kingdom of Great Britain and Northern Ireland','China, Hong Kong Special Administrative Region','Bolivia (Plurinational State of)','Iran (Islamic Republic of)']\n",
    "                             ,['South Korea','United States','United Kingdom','Hong Kong','Bolivia','Iran'],inplace=True)\n",
    "\n",
    "\n",
    "df_Energy.replace('...' , np.NaN ,inplace=True)"
   ]
  },
  {
   "cell_type": "markdown",
   "metadata": {},
   "source": [
    "### Step 1\n",
    "<br>\n",
    "\n",
    "Next, load the GDP data from the file `world_bank.csv`, which is a csv containing countries' GDP from 1960 to 2015 from [World Bank](http://data.worldbank.org/indicator/NY.GDP.MKTP.CD). Call this DataFrame **GDP**. \n",
    "\n",
    "Make sure to skip the header, and rename the following list of countries:\n",
    "\n",
    "```\"Korea, Rep.\": \"South Korea\", \n",
    "\"Iran, Islamic Rep.\": \"Iran\",\n",
    "\"Hong Kong SAR, China\": \"Hong Kong\"```\n",
    "\n",
    "<br>"
   ]
  },
  {
   "cell_type": "code",
   "execution_count": 2,
   "metadata": {},
   "outputs": [],
   "source": [
    "import pandas as pd\n",
    "df_GDP = pd.read_csv('01_data/world_bank.csv', skiprows=4) \n",
    "df_GDP = df_GDP.drop([\"Unnamed: 64\", \"2019\", \"2018\",\"2017\",\"2016\"], axis=1)\n",
    "\n",
    "df_GDP['Country Name'].replace(['Korea, Rep.' , 'Iran, Islamic Rep.','Hong Kong SAR, China']\n",
    "                             ,['South Korea','Iran','Hong Kong'],inplace=True)\n",
    "\n",
    "df_GDP = df_GDP.drop([\"Indicator Name\", \"Indicator Code\"], axis=1)\n"
   ]
  },
  {
   "cell_type": "markdown",
   "metadata": {},
   "source": [
    "### Step 2\n",
    "Finally, load the [Sciamgo Journal and Country Rank data for Energy Engineering and Power Technology](http://www.scimagojr.com/countryrank.php?category=2102) from the file `scimagojr-3.xlsx`, which ranks countries based on their journal contributions in the aforementioned area. Call this DataFrame **ScimEn**."
   ]
  },
  {
   "cell_type": "code",
   "execution_count": 3,
   "metadata": {},
   "outputs": [],
   "source": [
    "df_ScimEn= pd.read_excel('01_data/scimagojr.xlsx',sheet_name='Sheet1') \n",
    "df_ScimEn_15r = df_ScimEn.iloc[:15] \n"
   ]
  },
  {
   "cell_type": "markdown",
   "metadata": {},
   "source": [
    "### Step 3\n",
    "Join the three datasets: GDP, Energy, and ScimEn into a new dataset (using the intersection of country names). Use only the last 10 years (2006-2015) of GDP data and only the top 15 countries by Scimagojr 'Rank' (Rank 1 through 15). \n",
    "\n",
    "The index of this DataFrame should be the name of the country, and the columns should be ['Rank', 'Documents', 'Citable documents', 'Citations', 'Self-citations',\n",
    "       'Citations per document', 'H index', 'Energy Supply',\n",
    "       'Energy Supply per Capita', '% Renewable', '2006', '2007', '2008',\n",
    "       '2009', '2010', '2011', '2012', '2013', '2014', '2015'].\n",
    "\n",
    "*This step should yeild a DataFrame with 20 columns and 15 entries.*"
   ]
  },
  {
   "cell_type": "code",
   "execution_count": 5,
   "metadata": {},
   "outputs": [],
   "source": [
    "df_merge_engery_GDP = pd.merge(df_Energy,df_GDP, left_on='Country', right_on='Country Name')\n",
    "df_merge_engery_GDP_ScimEn = pd.merge(df_merge_engery_GDP,df_ScimEn_15r, left_on='Country', right_on='Country',how='inner')\n",
    "\n",
    "df_merge_engery_GDP_ScimEn =df_merge_engery_GDP_ScimEn.drop(['Country Name','Country Code'], axis=1)\n",
    "df_merge_engery_GDP_ScimEn.set_index('Country', inplace=True)\n",
    "\n",
    "#['Rank', 'Documents', 'Citable documents', 'Citations', 'Self-citations','Citations per document', 'H index', 'Energy Supply','Energy Supply per Capita', '% Renewable','2006', '2007', '2008','2009', '2010', '2011', '2012', '2013', '2014', '2015'].\n",
    "df_merge_engery_GDP_ScimEn = df_merge_engery_GDP_ScimEn[['Rank', 'Documents', 'Citable documents', 'Citations', 'Self-citations','Citations per document', 'H index', 'Energy Supply','Energy Supply per Capita', '% Renewable','2006', '2007', '2008','2009', '2010', '2011', '2012', '2013', '2014', '2015']]"
   ]
  },
  {
   "cell_type": "markdown",
   "metadata": {},
   "source": [
    "### Step 4\n",
    "The previous question joined three datasets then reduced this to just the top 15 entries. When you joined the datasets, but before you reduced this to the top 15 items, how many entries did you lose?\n",
    "\n",
    "*This step should yield a single number.*"
   ]
  },
  {
   "cell_type": "code",
   "execution_count": null,
   "metadata": {},
   "outputs": [],
   "source": [
    "df_merge_engery_GDP_Miss = pd.merge(df_Energy,df_GDP, left_on='Country', right_on='Country Name',how='inner',indicator =True)\n",
    "df_merge_engery_GDP_ScimEn_miss = pd.merge(df_merge_engery_GDP,df_ScimEn_15r, left_on='Country', right_on='Country',how='right',indicator =True)\n",
    "\n",
    "df_missing = (df_merge_engery_GDP_Miss['_merge'] != 'both').sum()\n",
    "df_missing2 = (df_merge_engery_GDP_ScimEn_miss['_merge'] != 'both').sum()\n",
    "print(df_missing+df_missing2)"
   ]
  },
  {
   "cell_type": "markdown",
   "metadata": {},
   "source": [
    "### Step 5\n",
    "\n",
    "#### Answer the following questions in the context of only the top 15 countries by Scimagojr Rank \n",
    "\n",
    "\n",
    "What is the average GDP over the last 10 years for each country? (exclude missing values from this calculation.)\n",
    "\n",
    "*This step should return a Series named `avgGDP` with 15 countries and their average GDP sorted in descending order.*"
   ]
  },
  {
   "cell_type": "code",
   "execution_count": 6,
   "metadata": {},
   "outputs": [
    {
     "data": {
      "text/html": [
       "<div>\n",
       "<style scoped>\n",
       "    .dataframe tbody tr th:only-of-type {\n",
       "        vertical-align: middle;\n",
       "    }\n",
       "\n",
       "    .dataframe tbody tr th {\n",
       "        vertical-align: top;\n",
       "    }\n",
       "\n",
       "    .dataframe thead th {\n",
       "        text-align: right;\n",
       "    }\n",
       "</style>\n",
       "<table border=\"1\" class=\"dataframe\">\n",
       "  <thead>\n",
       "    <tr style=\"text-align: right;\">\n",
       "      <th></th>\n",
       "      <th>avgGDP</th>\n",
       "    </tr>\n",
       "    <tr>\n",
       "      <th>Country</th>\n",
       "      <th></th>\n",
       "    </tr>\n",
       "  </thead>\n",
       "  <tbody>\n",
       "    <tr>\n",
       "      <th>Iran</th>\n",
       "      <td>4.452915e+11</td>\n",
       "    </tr>\n",
       "    <tr>\n",
       "      <th>South Korea</th>\n",
       "      <td>1.141704e+12</td>\n",
       "    </tr>\n",
       "    <tr>\n",
       "      <th>Australia</th>\n",
       "      <td>1.190396e+12</td>\n",
       "    </tr>\n",
       "    <tr>\n",
       "      <th>Spain</th>\n",
       "      <td>1.421195e+12</td>\n",
       "    </tr>\n",
       "    <tr>\n",
       "      <th>India</th>\n",
       "      <td>1.546659e+12</td>\n",
       "    </tr>\n",
       "    <tr>\n",
       "      <th>Canada</th>\n",
       "      <td>1.618981e+12</td>\n",
       "    </tr>\n",
       "    <tr>\n",
       "      <th>Russian Federation</th>\n",
       "      <td>1.701897e+12</td>\n",
       "    </tr>\n",
       "    <tr>\n",
       "      <th>Brazil</th>\n",
       "      <td>2.009626e+12</td>\n",
       "    </tr>\n",
       "    <tr>\n",
       "      <th>Italy</th>\n",
       "      <td>2.173538e+12</td>\n",
       "    </tr>\n",
       "    <tr>\n",
       "      <th>France</th>\n",
       "      <td>2.715055e+12</td>\n",
       "    </tr>\n",
       "    <tr>\n",
       "      <th>United Kingdom</th>\n",
       "      <td>2.759720e+12</td>\n",
       "    </tr>\n",
       "    <tr>\n",
       "      <th>Germany</th>\n",
       "      <td>3.536224e+12</td>\n",
       "    </tr>\n",
       "    <tr>\n",
       "      <th>Japan</th>\n",
       "      <td>5.264648e+12</td>\n",
       "    </tr>\n",
       "    <tr>\n",
       "      <th>China</th>\n",
       "      <td>6.464257e+12</td>\n",
       "    </tr>\n",
       "    <tr>\n",
       "      <th>United States</th>\n",
       "      <td>1.538516e+13</td>\n",
       "    </tr>\n",
       "  </tbody>\n",
       "</table>\n",
       "</div>"
      ],
      "text/plain": [
       "                          avgGDP\n",
       "Country                         \n",
       "Iran                4.452915e+11\n",
       "South Korea         1.141704e+12\n",
       "Australia           1.190396e+12\n",
       "Spain               1.421195e+12\n",
       "India               1.546659e+12\n",
       "Canada              1.618981e+12\n",
       "Russian Federation  1.701897e+12\n",
       "Brazil              2.009626e+12\n",
       "Italy               2.173538e+12\n",
       "France              2.715055e+12\n",
       "United Kingdom      2.759720e+12\n",
       "Germany             3.536224e+12\n",
       "Japan               5.264648e+12\n",
       "China               6.464257e+12\n",
       "United States       1.538516e+13"
      ]
     },
     "execution_count": 6,
     "metadata": {},
     "output_type": "execute_result"
    }
   ],
   "source": [
    "df_merge_engery_GDP_ScimEn_avg = df_merge_engery_GDP_ScimEn\n",
    "df_merge_engery_GDP_ScimEn_avg ['avgGDP'] = df_merge_engery_GDP_ScimEn_avg.iloc[:,10:19].mean(axis=1,skipna=True)\n",
    "df_merge_engery_GDP_ScimEn_avg =df_merge_engery_GDP_ScimEn_avg[['avgGDP']]\n",
    "series_avgGDP=df_merge_engery_GDP_ScimEn_avg.iloc[0:]\n",
    "type(series_avgGDP)\n",
    "df_merge_engery_GDP_ScimEn_avg.sort_values('avgGDP')"
   ]
  },
  {
   "cell_type": "markdown",
   "metadata": {},
   "source": [
    "### Step  6\n",
    "What is the mean `Energy Supply per Capita`?\n",
    "\n",
    "*This step should return a single number.*"
   ]
  },
  {
   "cell_type": "code",
   "execution_count": 7,
   "metadata": {},
   "outputs": [
    {
     "data": {
      "text/plain": [
       "119614244263.37988"
      ]
     },
     "execution_count": 7,
     "metadata": {},
     "output_type": "execute_result"
    }
   ],
   "source": [
    "Top15 = df_merge_engery_GDP_ScimEn\n",
    "years_to_keep = np.arange(2006, 2016).astype(str)\n",
    "Top15['avgGDP'] = Top15[years_to_keep].mean(axis=1)\n",
    "Top15 = Top15.sort_values(['avgGDP'], ascending=False)\n",
    "Top15['deltaGDP'] = Top15['2015'] - Top15['2006']\n",
    "Top15 = Top15.reset_index()\n",
    "Top15.loc[5, 'deltaGDP']"
   ]
  },
  {
   "cell_type": "markdown",
   "metadata": {},
   "source": [
    "### Step 7\n",
    "What country has the maximum % Renewable and what is the percentage?\n",
    "\n",
    "*This step should return a tuple with the name of the country and the percentage.*"
   ]
  },
  {
   "cell_type": "code",
   "execution_count": 8,
   "metadata": {},
   "outputs": [
    {
     "name": "stdout",
     "output_type": "stream",
     "text": [
      "Brazil 69.64803\n"
     ]
    },
    {
     "name": "stderr",
     "output_type": "stream",
     "text": [
      "/home/mhassan01/anaconda3/lib/python3.7/site-packages/ipykernel_launcher.py:2: FutureWarning: \n",
      "The current behaviour of 'Series.argmax' is deprecated, use 'idxmax'\n",
      "instead.\n",
      "The behavior of 'argmax' will be corrected to return the positional\n",
      "maximum in the future. For now, use 'series.values.argmax' or\n",
      "'np.argmax(np.array(values))' to get the position of the maximum\n",
      "row.\n",
      "  \n"
     ]
    }
   ],
   "source": [
    "Top15 = df_merge_engery_GDP_ScimEn\n",
    "result = Top15['% Renewable'].argmax()\n",
    "print (result,Top15.loc[result, '% Renewable'])\n",
    "    "
   ]
  },
  {
   "cell_type": "markdown",
   "metadata": {},
   "source": [
    "### Step 8\n",
    "Create a new column that is the ratio of Self-Citations to Total Citations. \n",
    "What is the maximum value for this new column, and what country has the highest ratio?\n",
    "\n",
    "*This step should return a tuple with the name of the country and the ratio.*"
   ]
  },
  {
   "cell_type": "code",
   "execution_count": 9,
   "metadata": {},
   "outputs": [
    {
     "name": "stdout",
     "output_type": "stream",
     "text": [
      "China 0.684206255293156\n"
     ]
    },
    {
     "name": "stderr",
     "output_type": "stream",
     "text": [
      "/home/mhassan01/anaconda3/lib/python3.7/site-packages/ipykernel_launcher.py:3: FutureWarning: \n",
      "The current behaviour of 'Series.argmax' is deprecated, use 'idxmax'\n",
      "instead.\n",
      "The behavior of 'argmax' will be corrected to return the positional\n",
      "maximum in the future. For now, use 'series.values.argmax' or\n",
      "'np.argmax(np.array(values))' to get the position of the maximum\n",
      "row.\n",
      "  This is separate from the ipykernel package so we can avoid doing imports until\n"
     ]
    }
   ],
   "source": [
    "Top15 = df_merge_engery_GDP_ScimEn\n",
    "Top15[\"Ratio\"] = Top15[\"Self-citations\"] / Top15[\"Citations\"]\n",
    "result = Top15[\"Ratio\"].argmax() \n",
    "print (result ,Top15[\"Ratio\"].max())"
   ]
  },
  {
   "cell_type": "markdown",
   "metadata": {},
   "source": [
    "### Step 9\n",
    "Create a new column with a 1 if the country's % Renewable value is at or above the median for all countries in the top 15, and a 0 if the country's % Renewable value is below the median.\n",
    "\n",
    "*This step should return a series named `HighRenew` whose index is the country name sorted in ascending order of rank.*"
   ]
  },
  {
   "cell_type": "code",
   "execution_count": 10,
   "metadata": {},
   "outputs": [
    {
     "data": {
      "text/plain": [
       "Country\n",
       "Australia             False\n",
       "India                 False\n",
       "Iran                  False\n",
       "Japan                 False\n",
       "South Korea           False\n",
       "United Kingdom        False\n",
       "United States         False\n",
       "Brazil                 True\n",
       "Canada                 True\n",
       "China                  True\n",
       "France                 True\n",
       "Germany                True\n",
       "Italy                  True\n",
       "Russian Federation     True\n",
       "Spain                  True\n",
       "Name: HighRenew, dtype: bool"
      ]
     },
     "execution_count": 10,
     "metadata": {},
     "output_type": "execute_result"
    }
   ],
   "source": [
    "Top15 = df_merge_engery_GDP_ScimEn\n",
    "Top15['median % Renewable'] = Top15['% Renewable'].median()\n",
    "Top15['HighRenew'] = Top15['% Renewable'] >= Top15['median % Renewable']\n",
    "Top15['HighRenew'].sort_values(ascending=True)"
   ]
  },
  {
   "cell_type": "markdown",
   "metadata": {},
   "source": [
    "### Step 10\n",
    "Use the following dictionary to group the Countries by Continent, then create a dateframe that displays the sample size (the number of countries in each continent bin), and the sum, mean, and std deviation for the estimated population of each country.\n",
    "\n",
    "```python\n",
    "ContinentDict  = {'China':'Asia', \n",
    "                  'United States':'North America', \n",
    "                  'Japan':'Asia', \n",
    "                  'United Kingdom':'Europe', \n",
    "                  'Russian Federation':'Europe', \n",
    "                  'Canada':'North America', \n",
    "                  'Germany':'Europe', \n",
    "                  'India':'Asia',\n",
    "                  'France':'Europe', \n",
    "                  'South Korea':'Asia', \n",
    "                  'Italy':'Europe', \n",
    "                  'Spain':'Europe', \n",
    "                  'Iran':'Asia',\n",
    "                  'Australia':'Australia', \n",
    "                  'Brazil':'South America'}\n",
    "```\n",
    "\n",
    "*This function should return a DataFrame with index named Continent `['Asia', 'Australia', 'Europe', 'North America', 'South America']` and columns `['size', 'sum', 'mean', 'std']`*"
   ]
  },
  {
   "cell_type": "code",
   "execution_count": 11,
   "metadata": {},
   "outputs": [
    {
     "name": "stdout",
     "output_type": "stream",
     "text": [
      "               size          sum        mean         std\n",
      "Continent                                               \n",
      "Asia            5.0  2898.666387  579.733277  679.097888\n",
      "Australia       1.0    23.316017   23.316017         NaN\n",
      "Europe          6.0   457.929667   76.321611   34.647667\n",
      "North America   2.0   352.855249  176.427625  199.669645\n",
      "South America   1.0   205.915254  205.915254         NaN\n"
     ]
    },
    {
     "name": "stderr",
     "output_type": "stream",
     "text": [
      "/home/mhassan01/anaconda3/lib/python3.7/site-packages/ipykernel_launcher.py:22: FutureWarning: using a dict on a Series for aggregation\n",
      "is deprecated and will be removed in a future version\n"
     ]
    }
   ],
   "source": [
    "Top15 = df_merge_engery_GDP_ScimEn\n",
    "ContinentDict  = {'China':'Asia', \n",
    "                  'United States':'North America', \n",
    "                  'Japan':'Asia', \n",
    "                  'United Kingdom':'Europe', \n",
    "                  'Russian Federation':'Europe', \n",
    "                  'Canada':'North America', \n",
    "                  'Germany':'Europe', \n",
    "                  'India':'Asia',\n",
    "                  'France':'Europe', \n",
    "                  'South Korea':'Asia', \n",
    "                  'Italy':'Europe', \n",
    "                  'Spain':'Europe', \n",
    "                  'Iran':'Asia',\n",
    "                  'Australia':'Australia', \n",
    "                  'Brazil':'South America'}\n",
    "Top15 = Top15.reset_index()\n",
    "Top15['Continent'] = Top15['Country'].map(ContinentDict)\n",
    "Top15['PopEst'] = Top15['Energy Supply'] / Top15['Energy Supply per Capita']\n",
    "result = Top15.copy()\n",
    "result = result[['Continent', 'PopEst']]\n",
    "result = result.groupby('Continent')['PopEst'].agg({'size': np.size,'sum': np.sum,'mean': np.mean,'std': np.std})\n",
    "idx = pd.IndexSlice\n",
    "print (result)"
   ]
  },
  {
   "cell_type": "code",
   "execution_count": null,
   "metadata": {},
   "outputs": [],
   "source": []
  }
 ],
 "metadata": {
  "kernelspec": {
   "display_name": "Python 3",
   "language": "python",
   "name": "python3"
  },
  "language_info": {
   "codemirror_mode": {
    "name": "ipython",
    "version": 3
   },
   "file_extension": ".py",
   "mimetype": "text/x-python",
   "name": "python",
   "nbconvert_exporter": "python",
   "pygments_lexer": "ipython3",
   "version": "3.7.3"
  }
 },
 "nbformat": 4,
 "nbformat_minor": 2
}
